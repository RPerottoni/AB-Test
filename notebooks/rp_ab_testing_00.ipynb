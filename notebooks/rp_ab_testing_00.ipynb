{
 "cells": [
  {
   "cell_type": "markdown",
   "id": "5d95f7d5-16bb-4e2d-9a4c-bf71cf84db7a",
   "metadata": {},
   "source": [
    "# A/B Testing Project"
   ]
  },
  {
   "cell_type": "markdown",
   "id": "569a7e80-627f-4bc4-a57d-d46b155ec1ed",
   "metadata": {},
   "source": [
    "# 0. IMPORTS"
   ]
  },
  {
   "cell_type": "code",
   "execution_count": 30,
   "id": "6bdcb4ba-be8e-4949-94b6-3d872f6d5391",
   "metadata": {
    "ExecuteTime": {
     "end_time": "2024-09-18T19:44:36.210633Z",
     "start_time": "2024-09-18T19:44:33.964324Z"
    },
    "hide_input": false
   },
   "outputs": [],
   "source": [
    "import math\n",
    "import pandas as pd\n",
    "import numpy  as np\n",
    "\n",
    "from statsmodels.stats import api as sms\n",
    "from scipy.stats       import chi2_contingency"
   ]
  },
  {
   "cell_type": "markdown",
   "id": "deb6efe0-06c9-4818-bbd1-fe15ad54701d",
   "metadata": {},
   "source": [
    "# 1. LOADING DATA"
   ]
  },
  {
   "cell_type": "code",
   "execution_count": 2,
   "id": "4e8ef83a-8df5-402d-8407-25446b766031",
   "metadata": {
    "ExecuteTime": {
     "end_time": "2024-09-18T19:44:36.722773Z",
     "start_time": "2024-09-18T19:44:36.217601Z"
    }
   },
   "outputs": [],
   "source": [
    "df_raw = pd.read_csv('../data/raw/ab_data.csv')"
   ]
  },
  {
   "cell_type": "code",
   "execution_count": 3,
   "id": "f9d5fc55-0fda-428a-98a5-28d0a0f9d858",
   "metadata": {},
   "outputs": [
    {
     "data": {
      "text/html": [
       "<div>\n",
       "<style scoped>\n",
       "    .dataframe tbody tr th:only-of-type {\n",
       "        vertical-align: middle;\n",
       "    }\n",
       "\n",
       "    .dataframe tbody tr th {\n",
       "        vertical-align: top;\n",
       "    }\n",
       "\n",
       "    .dataframe thead th {\n",
       "        text-align: right;\n",
       "    }\n",
       "</style>\n",
       "<table border=\"1\" class=\"dataframe\">\n",
       "  <thead>\n",
       "    <tr style=\"text-align: right;\">\n",
       "      <th></th>\n",
       "      <th>user_id</th>\n",
       "      <th>timestamp</th>\n",
       "      <th>group</th>\n",
       "      <th>landing_page</th>\n",
       "      <th>converted</th>\n",
       "    </tr>\n",
       "  </thead>\n",
       "  <tbody>\n",
       "    <tr>\n",
       "      <th>0</th>\n",
       "      <td>851104</td>\n",
       "      <td>2017-01-21 22:11:48.556739</td>\n",
       "      <td>control</td>\n",
       "      <td>old_page</td>\n",
       "      <td>0</td>\n",
       "    </tr>\n",
       "    <tr>\n",
       "      <th>1</th>\n",
       "      <td>804228</td>\n",
       "      <td>2017-01-12 08:01:45.159739</td>\n",
       "      <td>control</td>\n",
       "      <td>old_page</td>\n",
       "      <td>0</td>\n",
       "    </tr>\n",
       "    <tr>\n",
       "      <th>2</th>\n",
       "      <td>661590</td>\n",
       "      <td>2017-01-11 16:55:06.154213</td>\n",
       "      <td>treatment</td>\n",
       "      <td>new_page</td>\n",
       "      <td>0</td>\n",
       "    </tr>\n",
       "    <tr>\n",
       "      <th>3</th>\n",
       "      <td>853541</td>\n",
       "      <td>2017-01-08 18:28:03.143765</td>\n",
       "      <td>treatment</td>\n",
       "      <td>new_page</td>\n",
       "      <td>0</td>\n",
       "    </tr>\n",
       "    <tr>\n",
       "      <th>4</th>\n",
       "      <td>864975</td>\n",
       "      <td>2017-01-21 01:52:26.210827</td>\n",
       "      <td>control</td>\n",
       "      <td>old_page</td>\n",
       "      <td>1</td>\n",
       "    </tr>\n",
       "  </tbody>\n",
       "</table>\n",
       "</div>"
      ],
      "text/plain": [
       "   user_id                   timestamp      group landing_page  converted\n",
       "0   851104  2017-01-21 22:11:48.556739    control     old_page          0\n",
       "1   804228  2017-01-12 08:01:45.159739    control     old_page          0\n",
       "2   661590  2017-01-11 16:55:06.154213  treatment     new_page          0\n",
       "3   853541  2017-01-08 18:28:03.143765  treatment     new_page          0\n",
       "4   864975  2017-01-21 01:52:26.210827    control     old_page          1"
      ]
     },
     "execution_count": 3,
     "metadata": {},
     "output_type": "execute_result"
    }
   ],
   "source": [
    "df_raw.head()"
   ]
  },
  {
   "cell_type": "code",
   "execution_count": 4,
   "id": "0bf5a5ca-3db6-46fb-a631-6372cfa8b345",
   "metadata": {},
   "outputs": [
    {
     "data": {
      "text/plain": [
       "(294478, 5)"
      ]
     },
     "execution_count": 4,
     "metadata": {},
     "output_type": "execute_result"
    }
   ],
   "source": [
    "df_raw.shape"
   ]
  },
  {
   "cell_type": "markdown",
   "id": "27593b19-6cf9-4ce9-8420-5ffc9c32699b",
   "metadata": {},
   "source": [
    "# 2. DESIGN OF EXPERIMENT"
   ]
  },
  {
   "cell_type": "markdown",
   "id": "b2e543ea",
   "metadata": {},
   "source": [
    "## 2.1 - Hyphotesis Formulation"
   ]
  },
  {
   "cell_type": "code",
   "execution_count": null,
   "id": "1f57c60f-098b-47b1-ada9-1ca88e72b6d2",
   "metadata": {},
   "outputs": [],
   "source": [
    "# H0: The new page conversion is yet 13%\n",
    "# H1: The new page conversion is different from 13%"
   ]
  },
  {
   "cell_type": "markdown",
   "id": "6d857b33",
   "metadata": {},
   "source": [
    "## 2.2 - Parameters of the experiment"
   ]
  },
  {
   "cell_type": "code",
   "execution_count": 5,
   "id": "edc00a2c-95d6-4197-9147-57a2f158ec0e",
   "metadata": {
    "ExecuteTime": {
     "end_time": "2024-09-18T19:44:36.769178Z",
     "start_time": "2024-09-18T19:44:36.729039Z"
    }
   },
   "outputs": [
    {
     "name": "stdout",
     "output_type": "stream",
     "text": [
      "The minimum sample size required is: 9440\n",
      "The minimum sample size required for the control group is: 4720\n",
      "The minimum sample size required for the treatment group is: 4720\n"
     ]
    }
   ],
   "source": [
    "# To define the confidence level\n",
    "confidence_level = 0.95\n",
    "\n",
    "# To define the significance level: 1 - confidence_level\n",
    "significance_level = 1 - confidence_level\n",
    "\n",
    "# conversion rate of the old page and new page\n",
    "p1 = 0.13\n",
    "p2 = 0.15\n",
    "\n",
    "# To define the effect size\n",
    "effect_size = sms.proportion_effectsize( p1, p2 )\n",
    "\n",
    "# To define the statistics power (Standard is around 80%)\n",
    "power = 0.8\n",
    "\n",
    "# To calculate the sample size: What is the minimun sample size to attend the above requirements? \n",
    "min_sample_size = sms.NormalIndPower().solve_power(\n",
    "                     effect_size,\n",
    "                     power=power,\n",
    "                     alpha=significance_level\n",
    ")\n",
    "\n",
    "min_sample_size = math.ceil(min_sample_size)\n",
    "\n",
    "print('The minimum sample size required is: {}'.format( 2*min_sample_size) )\n",
    "print('The minimum sample size required for the control group is: {}'.format( min_sample_size) )\n",
    "print('The minimum sample size required for the treatment group is: {}'.format( min_sample_size) )\n"
   ]
  },
  {
   "cell_type": "markdown",
   "id": "d0697750",
   "metadata": {},
   "source": [
    "# 3.0 - EXPLORATORY DATA ANALYSIS"
   ]
  },
  {
   "cell_type": "code",
   "execution_count": null,
   "id": "9e95e832",
   "metadata": {
    "ExecuteTime": {
     "end_time": "2024-09-18T20:18:40.649216Z",
     "start_time": "2024-09-18T20:18:40.645199Z"
    }
   },
   "outputs": [],
   "source": [
    "n_sample = 4720"
   ]
  },
  {
   "cell_type": "code",
   "execution_count": null,
   "id": "4a0c6ece-397d-487b-9e68-6840f751cd89",
   "metadata": {
    "ExecuteTime": {
     "end_time": "2024-09-18T19:44:36.784729Z",
     "start_time": "2024-09-18T19:44:36.773180Z"
    }
   },
   "outputs": [],
   "source": [
    "# We should be aware that to get 10.000 answers it is necessary to calculate the number of people that should be contacted. It is not everyone that will\n",
    "# open an email or even reply the research, for example."
   ]
  },
  {
   "cell_type": "markdown",
   "id": "ba074539",
   "metadata": {},
   "source": [
    "Size of the dataset:"
   ]
  },
  {
   "cell_type": "code",
   "execution_count": 6,
   "id": "25ff24e6-d699-4ef6-89fe-68159090eee6",
   "metadata": {
    "ExecuteTime": {
     "end_time": "2024-09-18T19:51:19.505964Z",
     "start_time": "2024-09-18T19:51:19.494438Z"
    }
   },
   "outputs": [
    {
     "name": "stdout",
     "output_type": "stream",
     "text": [
      "Number of rows: 294478\n",
      "Number of columns: 5\n"
     ]
    }
   ],
   "source": [
    "print('Number of rows: {}'.format( df_raw.shape[0] ) )\n",
    "print('Number of columns: {}'.format( df_raw.shape[1] ) )"
   ]
  },
  {
   "cell_type": "markdown",
   "id": "ce5b8615",
   "metadata": {},
   "source": [
    "Is there NaN Values? ( NaN is an acronimum for is not a number)"
   ]
  },
  {
   "cell_type": "code",
   "execution_count": 7,
   "id": "698a6e4d",
   "metadata": {
    "ExecuteTime": {
     "end_time": "2024-09-18T19:52:47.102836Z",
     "start_time": "2024-09-18T19:52:47.037567Z"
    }
   },
   "outputs": [
    {
     "data": {
      "text/plain": [
       "user_id         0\n",
       "timestamp       0\n",
       "group           0\n",
       "landing_page    0\n",
       "converted       0\n",
       "dtype: int64"
      ]
     },
     "execution_count": 7,
     "metadata": {},
     "output_type": "execute_result"
    }
   ],
   "source": [
    "df_raw.isna().sum()"
   ]
  },
  {
   "cell_type": "markdown",
   "id": "123110e3",
   "metadata": {},
   "source": [
    "Checking flags of A/B Test"
   ]
  },
  {
   "cell_type": "code",
   "execution_count": 8,
   "id": "d69edf12",
   "metadata": {
    "ExecuteTime": {
     "end_time": "2024-09-18T20:12:46.573392Z",
     "start_time": "2024-09-18T20:12:46.479500Z"
    }
   },
   "outputs": [
    {
     "data": {
      "text/html": [
       "<div>\n",
       "<style scoped>\n",
       "    .dataframe tbody tr th:only-of-type {\n",
       "        vertical-align: middle;\n",
       "    }\n",
       "\n",
       "    .dataframe tbody tr th {\n",
       "        vertical-align: top;\n",
       "    }\n",
       "\n",
       "    .dataframe thead th {\n",
       "        text-align: right;\n",
       "    }\n",
       "</style>\n",
       "<table border=\"1\" class=\"dataframe\">\n",
       "  <thead>\n",
       "    <tr style=\"text-align: right;\">\n",
       "      <th></th>\n",
       "      <th>group</th>\n",
       "      <th>landing_page</th>\n",
       "      <th>user_id</th>\n",
       "    </tr>\n",
       "  </thead>\n",
       "  <tbody>\n",
       "    <tr>\n",
       "      <th>0</th>\n",
       "      <td>control</td>\n",
       "      <td>new_page</td>\n",
       "      <td>1928</td>\n",
       "    </tr>\n",
       "    <tr>\n",
       "      <th>1</th>\n",
       "      <td>control</td>\n",
       "      <td>old_page</td>\n",
       "      <td>145274</td>\n",
       "    </tr>\n",
       "    <tr>\n",
       "      <th>2</th>\n",
       "      <td>treatment</td>\n",
       "      <td>new_page</td>\n",
       "      <td>145311</td>\n",
       "    </tr>\n",
       "    <tr>\n",
       "      <th>3</th>\n",
       "      <td>treatment</td>\n",
       "      <td>old_page</td>\n",
       "      <td>1965</td>\n",
       "    </tr>\n",
       "  </tbody>\n",
       "</table>\n",
       "</div>"
      ],
      "text/plain": [
       "       group landing_page  user_id\n",
       "0    control     new_page     1928\n",
       "1    control     old_page   145274\n",
       "2  treatment     new_page   145311\n",
       "3  treatment     old_page     1965"
      ]
     },
     "execution_count": 8,
     "metadata": {},
     "output_type": "execute_result"
    }
   ],
   "source": [
    "df_raw[['group','landing_page','user_id']].groupby(['group','landing_page']).count().reset_index()"
   ]
  },
  {
   "cell_type": "markdown",
   "id": "e8cd72ce",
   "metadata": {},
   "source": [
    "There are some users that got access to the two pages:\n",
    "- users classified as \"control\" has to had seen just the old page\n",
    "- users classified as \"treatment\" has to had seen just the new page\n",
    "\n",
    "To fix it:\n",
    "- check the volum of duplicated values and if the volum is small, remove it."
   ]
  },
  {
   "cell_type": "code",
   "execution_count": 9,
   "id": "a6463258",
   "metadata": {
    "ExecuteTime": {
     "end_time": "2024-09-18T20:13:42.878631Z",
     "start_time": "2024-09-18T20:13:42.701171Z"
    }
   },
   "outputs": [
    {
     "data": {
      "text/plain": [
       "(286690, 5)"
      ]
     },
     "execution_count": 9,
     "metadata": {},
     "output_type": "execute_result"
    }
   ],
   "source": [
    "df_duplicated = df_raw[['group','landing_page','user_id']].groupby(['user_id']).count().reset_index().query('group > 1')['user_id']\n",
    "df1 = df_raw[~df_raw['user_id'].isin(df_duplicated)]\n",
    "df1.shape"
   ]
  },
  {
   "cell_type": "markdown",
   "id": "3fead0a0",
   "metadata": {},
   "source": [
    "## 3.1 - Treatment and Control datasets creation"
   ]
  },
  {
   "cell_type": "code",
   "execution_count": 11,
   "id": "17791602",
   "metadata": {
    "ExecuteTime": {
     "end_time": "2024-09-18T20:19:03.555294Z",
     "start_time": "2024-09-18T20:19:03.539153Z"
    }
   },
   "outputs": [],
   "source": [
    "n_sample = 4720"
   ]
  },
  {
   "cell_type": "code",
   "execution_count": 18,
   "id": "629a8ee6",
   "metadata": {
    "ExecuteTime": {
     "end_time": "2024-09-18T21:02:19.084483Z",
     "start_time": "2024-09-18T21:02:18.996067Z"
    }
   },
   "outputs": [
    {
     "name": "stdout",
     "output_type": "stream",
     "text": [
      "The size of control dataset is: 4720\n",
      "The size of treatment dataset is: 4720\n"
     ]
    }
   ],
   "source": [
    "# Control dataset creation: as previously seen, the size is 4720 samples\n",
    "df_control = df1[df1['group'] == 'control'].sample( n=n_sample, random_state=42 )\n",
    "print('The size of control dataset is: {}'.format(df_control.shape[0] ) )\n",
    "\n",
    "# Treatment dataset creation: as previously seen, the size is 4720 samples\n",
    "df_treatment = df1[df1['group'] == 'treatment'].sample( n=n_sample, random_state=42 )\n",
    "print('The size of treatment dataset is: {}'.format(df_treatment.shape[0] ) )\n",
    "\n",
    "\n",
    "# Concat both dataset\n",
    "df_abtest = pd.concat( [df_control, df_treatment]).reset_index(drop=True)"
   ]
  },
  {
   "cell_type": "markdown",
   "id": "7f1f6a34",
   "metadata": {},
   "source": [
    "## 3.2 Calculus of metric between groups"
   ]
  },
  {
   "cell_type": "code",
   "execution_count": 19,
   "id": "60750d2a",
   "metadata": {
    "ExecuteTime": {
     "end_time": "2024-09-18T21:10:31.156237Z",
     "start_time": "2024-09-18T21:10:31.144559Z"
    }
   },
   "outputs": [
    {
     "name": "stdout",
     "output_type": "stream",
     "text": [
      "Conversion rate - Control group: 0.1155\n",
      "Conversion rate - Treatment group: 0.1290\n",
      "p-value: 0.08\n",
      "Do not reject H0\n"
     ]
    }
   ],
   "source": [
    "# ------------ CONTROL ------------\n",
    "sales = df_control.loc[df_control['converted'] == 1, 'converted'].sum()\n",
    "visit = len(df_control)\n",
    "\n",
    "conversion_rate_c = sales / visit\n",
    "print('Conversion rate - Control group: {:.4f}'.format( conversion_rate_c ) )\n",
    "\n",
    "# ------------ TREATMENT------------\n",
    "sales = df_treatment.loc[df_treatment['converted'] == 1, 'converted'].sum()\n",
    "visit = len(df_treatment)\n",
    "\n",
    "conversion_rate_c = sales / visit\n",
    "print('Conversion rate - Treatment group: {:.4f}'.format( conversion_rate_c ) )\n",
    "\n",
    "# ------------ CONVERSION = BUYERS / SELLERS\n",
    "df_ab_table = df_abtest[['group','converted']].groupby( 'group' ).agg( {'converted': ['sum', 'count'] })\n",
    "df_ab_table.columns = ['converted', 'non_converted']\n",
    "\n",
    "# Hypothesis Testing\n",
    "chi_val, pval, dof, expected = chi2_contingency( df_ab_table )\n",
    "\n",
    "print( 'p-value: {:.2f}'.format( pval ))\n",
    "\n",
    "if pval < significance_level:\n",
    "    print( 'Reject H0')\n",
    "else:\n",
    "    print( 'Do not reject H0')"
   ]
  },
  {
   "cell_type": "code",
   "execution_count": 20,
   "id": "5899ad6e-870e-47a1-ac02-e782eb6dbacf",
   "metadata": {},
   "outputs": [
    {
     "data": {
      "text/html": [
       "<div>\n",
       "<style scoped>\n",
       "    .dataframe tbody tr th:only-of-type {\n",
       "        vertical-align: middle;\n",
       "    }\n",
       "\n",
       "    .dataframe tbody tr th {\n",
       "        vertical-align: top;\n",
       "    }\n",
       "\n",
       "    .dataframe thead th {\n",
       "        text-align: right;\n",
       "    }\n",
       "</style>\n",
       "<table border=\"1\" class=\"dataframe\">\n",
       "  <thead>\n",
       "    <tr style=\"text-align: right;\">\n",
       "      <th></th>\n",
       "      <th>converted</th>\n",
       "      <th>non_converted</th>\n",
       "    </tr>\n",
       "    <tr>\n",
       "      <th>group</th>\n",
       "      <th></th>\n",
       "      <th></th>\n",
       "    </tr>\n",
       "  </thead>\n",
       "  <tbody>\n",
       "    <tr>\n",
       "      <th>control</th>\n",
       "      <td>545</td>\n",
       "      <td>4720</td>\n",
       "    </tr>\n",
       "    <tr>\n",
       "      <th>treatment</th>\n",
       "      <td>609</td>\n",
       "      <td>4720</td>\n",
       "    </tr>\n",
       "  </tbody>\n",
       "</table>\n",
       "</div>"
      ],
      "text/plain": [
       "           converted  non_converted\n",
       "group                              \n",
       "control          545           4720\n",
       "treatment        609           4720"
      ]
     },
     "execution_count": 20,
     "metadata": {},
     "output_type": "execute_result"
    }
   ],
   "source": [
    "df_ab_table"
   ]
  },
  {
   "cell_type": "markdown",
   "id": "1df9c6f7-5657-4594-beb9-7f82fded97f4",
   "metadata": {},
   "source": [
    "# 4.0 - Conversao da pagina em faturamento"
   ]
  },
  {
   "cell_type": "code",
   "execution_count": 21,
   "id": "0840ae4d-82d3-4121-a255-034cb0245eed",
   "metadata": {},
   "outputs": [],
   "source": [
    "df4 = df1.copy()"
   ]
  },
  {
   "cell_type": "code",
   "execution_count": null,
   "id": "b6609e5f-15f7-4f00-a6c9-a5dc6d5c4fe8",
   "metadata": {},
   "outputs": [],
   "source": [
    "pagina_atual = 13\n",
    "pagina_nova = 15"
   ]
  },
  {
   "cell_type": "code",
   "execution_count": null,
   "id": "b72c14a2-ffab-4384-a626-15f1eb85733e",
   "metadata": {},
   "outputs": [],
   "source": [
    "n de visitantes diarios * 0.13 \n",
    "gmv = compradores * 4500"
   ]
  },
  {
   "cell_type": "code",
   "execution_count": 24,
   "id": "77535a4e-91cb-40c6-a789-c7b6df0fe520",
   "metadata": {},
   "outputs": [],
   "source": [
    "# Tratando a coluna data\n",
    "df4['timestamp'] = pd.to_datetime( df4['timestamp'] ).apply( lambda x: x.strftime( '%Y-%m-%d' ) )"
   ]
  },
  {
   "cell_type": "code",
   "execution_count": 34,
   "id": "1257a0e0-83fe-4ffd-9c6c-1f824e9d4ab0",
   "metadata": {},
   "outputs": [
    {
     "name": "stdout",
     "output_type": "stream",
     "text": [
      "GMV On Period: 167760000\n",
      "New GMV On Period: 193563000\n",
      "Expected Lift: 15.38%\n"
     ]
    }
   ],
   "source": [
    "df5 = df4[['user_id', 'timestamp']].groupby( 'timestamp' ).count().reset_index()\n",
    "\n",
    "# Current GMV (Gross Margin Revenue)\n",
    "df5['current_purchases'] = np.ceil( df5['user_id'] * 0.13 ).astype( int )\n",
    "df5['current_gmv'] = df5['current_purchases'] * 4500\n",
    "\n",
    "current_gmv = df5['current_gmv'].sum()\n",
    "print( 'GMV On Period: {}'.format( current_gmv ))\n",
    "\n",
    "# Expected GMV\n",
    "df5['new_purchases'] = np.ceil( df5['user_id'] * 0.15 ).astype( int )\n",
    "df5['new_gmv'] = df5['new_purchases'] * 4500\n",
    "\n",
    "new_gmv = df5['new_gmv'].sum()\n",
    "print( 'New GMV On Period: {}'.format( new_gmv ))\n",
    "\n",
    "lift = 100*( new_gmv - current_gmv ) / current_gmv\n",
    "print( 'Expected Lift: {:.2f}%'.format( lift ))"
   ]
  },
  {
   "cell_type": "code",
   "execution_count": null,
   "id": "b7782793-5610-4f7c-b286-3dbd25585086",
   "metadata": {},
   "outputs": [],
   "source": []
  },
  {
   "cell_type": "code",
   "execution_count": null,
   "id": "b3006d5c-f139-4c64-adbc-f9ef2d3aa00d",
   "metadata": {},
   "outputs": [],
   "source": []
  },
  {
   "cell_type": "code",
   "execution_count": null,
   "id": "d83a4fd4-3d85-4321-bfb7-13347e4c583a",
   "metadata": {},
   "outputs": [],
   "source": []
  },
  {
   "cell_type": "code",
   "execution_count": null,
   "id": "fb925be3-865d-407e-abcf-830b3b6becf2",
   "metadata": {},
   "outputs": [],
   "source": []
  },
  {
   "cell_type": "code",
   "execution_count": null,
   "id": "fdd459f6-6e9e-4dd6-9ccd-0786c14a3bfa",
   "metadata": {},
   "outputs": [],
   "source": []
  }
 ],
 "metadata": {
  "hide_input": false,
  "kernelspec": {
   "display_name": "Python 3 (ipykernel)",
   "language": "python",
   "name": "python3"
  },
  "language_info": {
   "codemirror_mode": {
    "name": "ipython",
    "version": 3
   },
   "file_extension": ".py",
   "mimetype": "text/x-python",
   "name": "python",
   "nbconvert_exporter": "python",
   "pygments_lexer": "ipython3",
   "version": "3.11.9"
  }
 },
 "nbformat": 4,
 "nbformat_minor": 5
}
